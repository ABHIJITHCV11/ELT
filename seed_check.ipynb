{
 "cells": [
  {
   "cell_type": "code",
   "execution_count": 23,
   "id": "084de025-6622-4223-9a2f-31e01c7a2094",
   "metadata": {},
   "outputs": [],
   "source": [
    "import pandas as pd"
   ]
  },
  {
   "cell_type": "code",
   "execution_count": 38,
   "id": "1bbddea3-bbef-4607-8c69-a5e65180afb7",
   "metadata": {},
   "outputs": [],
   "source": [
    "df2 = pd.read_excel('sheetname') # reaplce with path"
   ]
  },
  {
   "cell_type": "code",
   "execution_count": 39,
   "id": "6b1fa569-6992-42a5-9fa9-227c42ef097c",
   "metadata": {},
   "outputs": [
    {
     "name": "stdout",
     "output_type": "stream",
     "text": [
      "ORGANIZATION_CODE does not satisfy the conditions of a primary key.\n"
     ]
    }
   ],
   "source": [
    "# Check if ORGANIZATION_CODE contains null values\n",
    "no_nulls = df1['pk'].isnull().sum() == 0 # replace pk as primary key\n",
    "\n",
    "# Check if ORGANIZATION_CODE contains unique values\n",
    "all_unique = df1['pk'].is_unique\n",
    "\n",
    "# Verify if both conditions are satisfied\n",
    "if no_nulls and all_unique:\n",
    "    print(\"pk satisfies the conditions of a primary key.\")\n",
    "else:\n",
    "    print(\"pk does not satisfy the conditions of a primary key.\")\n"
   ]
  }
 ],
 "metadata": {
  "kernelspec": {
   "display_name": "Python 3 (ipykernel)",
   "language": "python",
   "name": "python3"
  },
  "language_info": {
   "codemirror_mode": {
    "name": "ipython",
    "version": 3
   },
   "file_extension": ".py",
   "mimetype": "text/x-python",
   "name": "python",
   "nbconvert_exporter": "python",
   "pygments_lexer": "ipython3",
   "version": "3.11.0"
  }
 },
 "nbformat": 4,
 "nbformat_minor": 5
}
