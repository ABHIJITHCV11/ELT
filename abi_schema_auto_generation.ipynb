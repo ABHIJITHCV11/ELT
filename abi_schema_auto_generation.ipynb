{
 "cells": [
  {
   "cell_type": "code",
   "execution_count": 1,
   "id": "0ebc65f8-34f4-41b7-9a43-756141379e63",
   "metadata": {},
   "outputs": [],
   "source": [
    "import pandas as pd\n",
    "import numpy as np\n",
    "# Ensure 'pyxlsb' is installed\n",
    "try:\n",
    "    import pyxlsb\n",
    "except ImportError:\n",
    "    !pip install pyxlsb\n",
    "pd.set_option('display.max_rows', 400)    "
   ]
  },
  {
   "cell_type": "code",
   "execution_count": 2,
   "id": "8df4980c-9500-4d54-922d-5f8b58eeb8a2",
   "metadata": {},
   "outputs": [],
   "source": [
    "# Path to the Excel file\n",
    "file_path = 'SRF_GSTR2_Consolidated_Excel_R_070524_Apr-24.xlsb'\n",
    "# Load the Excel file\n",
    "excel_file = pd.ExcelFile(file_path)\n",
    "# Get the sheet names\n",
    "sheets = excel_file.sheet_names"
   ]
  },
  {
   "cell_type": "code",
   "execution_count": 3,
   "id": "ee8dc385-eac7-4de7-a811-d31b57f9cc43",
   "metadata": {},
   "outputs": [],
   "source": [
    "def has_special_characters(col):\n",
    "    for char in col:\n",
    "        if not (char.isalnum() or char == '_'):\n",
    "            return True\n",
    "    return False"
   ]
  },
  {
   "cell_type": "code",
   "execution_count": 13,
   "id": "81411d93-def4-44e4-8241-f251c0520fa6",
   "metadata": {},
   "outputs": [
    {
     "name": "stdout",
     "output_type": "stream",
     "text": [
      "B2B   (0, 96)\n",
      "B2B UR   (0, 95)\n",
      "CASH   (0, 110)\n",
      "CASH UR   (0, 95)\n",
      "CDN   (0, 95)\n",
      "CDN UR   (0, 97)\n",
      "IMPG   (0, 95)\n",
      "IMPS   (0, 96)\n",
      "B2B IRISO   (0, 76)\n",
      "XDO_METADATA   (0, 1)\n"
     ]
    }
   ],
   "source": [
    "for sheet in sheets:\n",
    "    df = pd.read_excel(file_path, sheet_name=sheet,nrows=0)\n",
    "    print(sheet,' ',df.shape)"
   ]
  },
  {
   "cell_type": "code",
   "execution_count": 17,
   "id": "774e1c56-559d-4459-9df8-1e5b1106b5b7",
   "metadata": {},
   "outputs": [],
   "source": [
    "# Define your list of columns\n",
    "# ie use use what columns that is necessery\n",
    "l1 = [\n",
    "    \"INVOICE_DT\", \"INVOICE_NO\", \"SUPPLIER_NAME\", \"SUPPLIER_GSTIN\", \"SUPPLIER_STATE\", \"ITEM_TAXABLE_VALUE\",\n",
    "    \"CGST_RATE\", \"CGST_AMOUNT\", \"SGST_RATE\", \"SGST_AMOUNT\", \"IGST_RATE\", \"IGST_AMOUNT\", \"CESS_RATE\", \"CESS_AMOUNT\",\n",
    "    \"ELIGIBILITY_OF_ITC\", \"CGST_ITC_CLAIM_AMOUNT\", \"SGST_ITC_CLAIM_AMOUNT\", \"IGST_ITC_CLAIM_AMOUNT\",\n",
    "    \"CESS_ITC_CLAIM_AMOUNT\", \"DBT_CRDT_NOTE_DT\", \"DBT_CRDT_NOTE_NO\", \"TRANS_TYPE_CODE\",\n",
    "    \"Is this a Bill of Supply\", \"IS_REVERSE_CHARGE_APPLICABLE\", \"TRANS_TYPE_CODE\",\n",
    "    \"BILL_OF_ENTRY_PORT_CODE\", \"BILL_OF_ENTRY_NUMBER\", \"BILL_OF_ENTRY_DATE\", \"FP\", \"SELF_GSTIN\"\n",
    "]"
   ]
  },
  {
   "cell_type": "code",
   "execution_count": 18,
   "id": "dadd99b3-c152-42b0-a921-fcee6c61b305",
   "metadata": {
    "scrolled": true
   },
   "outputs": [
    {
     "name": "stdout",
     "output_type": "stream",
     "text": [
      "Missing columns in sheet 'B2B': ['Is this a Bill of Supply']\n",
      "Missing columns in sheet 'B2B UR': ['Is this a Bill of Supply']\n",
      "Missing columns in sheet 'CASH': ['Is this a Bill of Supply']\n",
      "Missing columns in sheet 'CASH UR': ['Is this a Bill of Supply']\n",
      "Missing columns in sheet 'CDN': ['Is this a Bill of Supply']\n",
      "Missing columns in sheet 'CDN UR': ['Is this a Bill of Supply']\n",
      "Missing columns in sheet 'IMPG': ['Is this a Bill of Supply']\n",
      "Missing columns in sheet 'IMPS': ['Is this a Bill of Supply']\n",
      "Missing columns in sheet 'B2B IRISO': ['Is this a Bill of Supply']\n",
      "Missing columns in sheet 'XDO_METADATA': ['INVOICE_DT', 'INVOICE_NO', 'SUPPLIER_NAME', 'SUPPLIER_GSTIN', 'SUPPLIER_STATE', 'ITEM_TAXABLE_VALUE', 'CGST_RATE', 'CGST_AMOUNT', 'SGST_RATE', 'SGST_AMOUNT', 'IGST_RATE', 'IGST_AMOUNT', 'CESS_RATE', 'CESS_AMOUNT', 'ELIGIBILITY_OF_ITC', 'CGST_ITC_CLAIM_AMOUNT', 'SGST_ITC_CLAIM_AMOUNT', 'IGST_ITC_CLAIM_AMOUNT', 'CESS_ITC_CLAIM_AMOUNT', 'DBT_CRDT_NOTE_DT', 'DBT_CRDT_NOTE_NO', 'TRANS_TYPE_CODE', 'Is this a Bill of Supply', 'IS_REVERSE_CHARGE_APPLICABLE', 'TRANS_TYPE_CODE', 'BILL_OF_ENTRY_PORT_CODE', 'BILL_OF_ENTRY_NUMBER', 'BILL_OF_ENTRY_DATE', 'FP', 'SELF_GSTIN']\n"
     ]
    }
   ],
   "source": [
    "# Loop through each sheet\n",
    "for sheet in sheets:\n",
    "    # Read only the header (first row) to get column names\n",
    "    df1 = pd.read_excel(file_path, sheet_name=sheet, nrows=0)\n",
    "    # Initialize an empty list for missing columns\n",
    "    missing_columns = []\n",
    "    \n",
    "    # Check each column in l1\n",
    "    for col in l1:\n",
    "        # If the column is not in df1.columns, add it to missing_columns\n",
    "        if col not in df1.columns:\n",
    "            missing_columns.append(col)\n",
    "    \n",
    "    # Print the missing columns for each sheet\n",
    "    if missing_columns:\n",
    "        print(f\"Missing columns in sheet '{sheet}': {missing_columns}\")\n",
    "    else:\n",
    "        print(f\"No missing columns in sheet '{sheet}'.\")\n"
   ]
  },
  {
   "cell_type": "code",
   "execution_count": 4,
   "id": "a72dbb62-0c51-46b3-b823-025a3cc558cb",
   "metadata": {},
   "outputs": [],
   "source": [
    "# Initialize an empty list to hold the rows\n",
    "table_data = []\n",
    "all_col = []\n",
    "problem_cols = []\n",
    "# Loop through each sheet\n",
    "for sheet in sheets:\n",
    "    # Read the data from the current sheet\n",
    "    df = pd.read_excel(file_path, sheet_name=sheet,nrows=0)\n",
    "    # replace spaces with underscore for sheet name ofr the csv\n",
    "    sheet = sheet.replace(' ', '_')\n",
    "    # Loop through each column name in the current sheet\n",
    "    for col in df.columns:\n",
    "        all_col.append(col)\n",
    "\n",
    "        # Check if the column name contains 'unnamed' (case insensitive) or has special characters\n",
    "        if 'unnamed' in col.lower() or has_special_characters(col):\n",
    "            # Append the problematic column to the list (assuming sheet is available)\n",
    "            problem_cols.append(col)\n",
    "\n",
    "        \n",
    "        # Create a tuple with table name, column name, and type\n",
    "        row = (sheet, col, \"VARCHAR\")\n",
    "        # Append the tuple to the table_data list\n",
    "        table_data.append(row)\n",
    "# Create a DataFrame from the list of tuples\n",
    "table_schema1 = pd.DataFrame(table_data, columns=[\"TABLE\", \"COLUMN\", \"TYPE\"])    "
   ]
  },
  {
   "cell_type": "code",
   "execution_count": 5,
   "id": "9bfdf2a1-8c5f-408e-8ab5-a4075620ee04",
   "metadata": {
    "scrolled": true
   },
   "outputs": [
    {
     "data": {
      "text/html": [
       "<div>\n",
       "<style scoped>\n",
       "    .dataframe tbody tr th:only-of-type {\n",
       "        vertical-align: middle;\n",
       "    }\n",
       "\n",
       "    .dataframe tbody tr th {\n",
       "        vertical-align: top;\n",
       "    }\n",
       "\n",
       "    .dataframe thead th {\n",
       "        text-align: right;\n",
       "    }\n",
       "</style>\n",
       "<table border=\"1\" class=\"dataframe\">\n",
       "  <thead>\n",
       "    <tr style=\"text-align: right;\">\n",
       "      <th></th>\n",
       "      <th>TABLE</th>\n",
       "      <th>COLUMN</th>\n",
       "      <th>TYPE</th>\n",
       "    </tr>\n",
       "  </thead>\n",
       "  <tbody>\n",
       "    <tr>\n",
       "      <th>0</th>\n",
       "      <td>B2B</td>\n",
       "      <td>TRANS_TYPE_CODE</td>\n",
       "      <td>VARCHAR</td>\n",
       "    </tr>\n",
       "    <tr>\n",
       "      <th>1</th>\n",
       "      <td>B2B</td>\n",
       "      <td>BSV</td>\n",
       "      <td>VARCHAR</td>\n",
       "    </tr>\n",
       "    <tr>\n",
       "      <th>2</th>\n",
       "      <td>B2B</td>\n",
       "      <td>FP</td>\n",
       "      <td>VARCHAR</td>\n",
       "    </tr>\n",
       "    <tr>\n",
       "      <th>3</th>\n",
       "      <td>B2B</td>\n",
       "      <td>ACK_SR_NO</td>\n",
       "      <td>VARCHAR</td>\n",
       "    </tr>\n",
       "    <tr>\n",
       "      <th>4</th>\n",
       "      <td>B2B</td>\n",
       "      <td>SELF_GSTIN</td>\n",
       "      <td>VARCHAR</td>\n",
       "    </tr>\n",
       "    <tr>\n",
       "      <th>...</th>\n",
       "      <td>...</td>\n",
       "      <td>...</td>\n",
       "      <td>...</td>\n",
       "    </tr>\n",
       "    <tr>\n",
       "      <th>851</th>\n",
       "      <td>B2B_IRISO</td>\n",
       "      <td>DIFF_CESS_AMNT</td>\n",
       "      <td>VARCHAR</td>\n",
       "    </tr>\n",
       "    <tr>\n",
       "      <th>852</th>\n",
       "      <td>B2B_IRISO</td>\n",
       "      <td>OR_DBT_CRDT_NOTE_NO</td>\n",
       "      <td>VARCHAR</td>\n",
       "    </tr>\n",
       "    <tr>\n",
       "      <th>853</th>\n",
       "      <td>B2B_IRISO</td>\n",
       "      <td>OR_DBT_CRDT_NOTE_DT</td>\n",
       "      <td>VARCHAR</td>\n",
       "    </tr>\n",
       "    <tr>\n",
       "      <th>854</th>\n",
       "      <td>B2B_IRISO</td>\n",
       "      <td>ACCOUNTED_FLAG</td>\n",
       "      <td>VARCHAR</td>\n",
       "    </tr>\n",
       "    <tr>\n",
       "      <th>855</th>\n",
       "      <td>XDO_METADATA</td>\n",
       "      <td>Version</td>\n",
       "      <td>VARCHAR</td>\n",
       "    </tr>\n",
       "  </tbody>\n",
       "</table>\n",
       "<p>856 rows × 3 columns</p>\n",
       "</div>"
      ],
      "text/plain": [
       "            TABLE               COLUMN     TYPE\n",
       "0             B2B      TRANS_TYPE_CODE  VARCHAR\n",
       "1             B2B                  BSV  VARCHAR\n",
       "2             B2B                   FP  VARCHAR\n",
       "3             B2B            ACK_SR_NO  VARCHAR\n",
       "4             B2B           SELF_GSTIN  VARCHAR\n",
       "..            ...                  ...      ...\n",
       "851     B2B_IRISO       DIFF_CESS_AMNT  VARCHAR\n",
       "852     B2B_IRISO  OR_DBT_CRDT_NOTE_NO  VARCHAR\n",
       "853     B2B_IRISO  OR_DBT_CRDT_NOTE_DT  VARCHAR\n",
       "854     B2B_IRISO       ACCOUNTED_FLAG  VARCHAR\n",
       "855  XDO_METADATA              Version  VARCHAR\n",
       "\n",
       "[856 rows x 3 columns]"
      ]
     },
     "execution_count": 5,
     "metadata": {},
     "output_type": "execute_result"
    }
   ],
   "source": [
    "table_schema1"
   ]
  },
  {
   "cell_type": "code",
   "execution_count": 6,
   "id": "921528d0-6e0e-4219-aaea-5c237104b7c4",
   "metadata": {},
   "outputs": [
    {
     "name": "stdout",
     "output_type": "stream",
     "text": [
      "Unnamed: 86\n",
      "Unnamed: 84\n"
     ]
    }
   ],
   "source": [
    "for col in all_col:\n",
    "    # Check if the column name contains 'unnamed' (case insensitive)\n",
    "    if 'unnamed' in col.lower():\n",
    "        # Print the column name\n",
    "        print(col)"
   ]
  },
  {
   "cell_type": "code",
   "execution_count": 7,
   "id": "6445c8d2-d2ee-4e35-a412-4e2856e11b29",
   "metadata": {},
   "outputs": [],
   "source": [
    "table_schema1.to_csv('table_schema.csv', index=False)"
   ]
  },
  {
   "cell_type": "code",
   "execution_count": 8,
   "id": "49799f24-4d3a-45c3-bd82-1912f51e4e92",
   "metadata": {},
   "outputs": [
    {
     "data": {
      "text/html": [
       "<div>\n",
       "<style scoped>\n",
       "    .dataframe tbody tr th:only-of-type {\n",
       "        vertical-align: middle;\n",
       "    }\n",
       "\n",
       "    .dataframe tbody tr th {\n",
       "        vertical-align: top;\n",
       "    }\n",
       "\n",
       "    .dataframe thead th {\n",
       "        text-align: right;\n",
       "    }\n",
       "</style>\n",
       "<table border=\"1\" class=\"dataframe\">\n",
       "  <thead>\n",
       "    <tr style=\"text-align: right;\">\n",
       "      <th></th>\n",
       "      <th>TABLE</th>\n",
       "      <th>COLUMN</th>\n",
       "      <th>TYPE</th>\n",
       "    </tr>\n",
       "  </thead>\n",
       "  <tbody>\n",
       "    <tr>\n",
       "      <th>0</th>\n",
       "      <td>B2B</td>\n",
       "      <td>TRANS_TYPE_CODE</td>\n",
       "      <td>VARCHAR</td>\n",
       "    </tr>\n",
       "    <tr>\n",
       "      <th>1</th>\n",
       "      <td>B2B</td>\n",
       "      <td>BSV</td>\n",
       "      <td>VARCHAR</td>\n",
       "    </tr>\n",
       "    <tr>\n",
       "      <th>2</th>\n",
       "      <td>B2B</td>\n",
       "      <td>FP</td>\n",
       "      <td>VARCHAR</td>\n",
       "    </tr>\n",
       "    <tr>\n",
       "      <th>3</th>\n",
       "      <td>B2B</td>\n",
       "      <td>ACK_SR_NO</td>\n",
       "      <td>VARCHAR</td>\n",
       "    </tr>\n",
       "    <tr>\n",
       "      <th>4</th>\n",
       "      <td>B2B</td>\n",
       "      <td>SELF_GSTIN</td>\n",
       "      <td>VARCHAR</td>\n",
       "    </tr>\n",
       "  </tbody>\n",
       "</table>\n",
       "</div>"
      ],
      "text/plain": [
       "  TABLE           COLUMN     TYPE\n",
       "0   B2B  TRANS_TYPE_CODE  VARCHAR\n",
       "1   B2B              BSV  VARCHAR\n",
       "2   B2B               FP  VARCHAR\n",
       "3   B2B        ACK_SR_NO  VARCHAR\n",
       "4   B2B       SELF_GSTIN  VARCHAR"
      ]
     },
     "execution_count": 8,
     "metadata": {},
     "output_type": "execute_result"
    }
   ],
   "source": [
    "table_schema1.head()"
   ]
  },
  {
   "cell_type": "code",
   "execution_count": 9,
   "id": "0f25a77d-4379-493a-a4e0-625ee1fd230b",
   "metadata": {},
   "outputs": [
    {
     "data": {
      "text/plain": [
       "array(['B2B', 'B2B_UR', 'CASH', 'CASH_UR', 'CDN', 'CDN_UR', 'IMPG',\n",
       "       'IMPS', 'B2B_IRISO', 'XDO_METADATA'], dtype=object)"
      ]
     },
     "execution_count": 9,
     "metadata": {},
     "output_type": "execute_result"
    }
   ],
   "source": [
    "table_schema1['TABLE'].unique()"
   ]
  },
  {
   "cell_type": "code",
   "execution_count": 10,
   "id": "8393fd04-67a9-416d-9749-52c82184d43a",
   "metadata": {},
   "outputs": [
    {
     "data": {
      "text/plain": [
       "(856, 3)"
      ]
     },
     "execution_count": 10,
     "metadata": {},
     "output_type": "execute_result"
    }
   ],
   "source": [
    "table_schema1.shape"
   ]
  },
  {
   "cell_type": "code",
   "execution_count": 11,
   "id": "d49c1642-b70f-47c1-88e5-6b6ad0e43d3f",
   "metadata": {},
   "outputs": [
    {
     "data": {
      "text/plain": [
       "['Unnamed: 86', 'Unnamed: 84']"
      ]
     },
     "execution_count": 11,
     "metadata": {},
     "output_type": "execute_result"
    }
   ],
   "source": [
    "problem_cols"
   ]
  },
  {
   "cell_type": "code",
   "execution_count": 12,
   "id": "aeaa0e6c-2a66-4590-9f93-a1232cd05bb8",
   "metadata": {},
   "outputs": [
    {
     "name": "stdout",
     "output_type": "stream",
     "text": [
      "Unnamed: 86\n",
      "Unnamed: 84\n"
     ]
    }
   ],
   "source": [
    "for col in table_schema1['COLUMN']:\n",
    "    if ' ' in col:\n",
    "        print(col)"
   ]
  },
  {
   "cell_type": "code",
   "execution_count": null,
   "id": "0381962a-3788-424a-9d1f-10301285e147",
   "metadata": {},
   "outputs": [],
   "source": []
  }
 ],
 "metadata": {
  "kernelspec": {
   "display_name": "Python 3 (ipykernel)",
   "language": "python",
   "name": "python3"
  },
  "language_info": {
   "codemirror_mode": {
    "name": "ipython",
    "version": 3
   },
   "file_extension": ".py",
   "mimetype": "text/x-python",
   "name": "python",
   "nbconvert_exporter": "python",
   "pygments_lexer": "ipython3",
   "version": "3.11.0"
  }
 },
 "nbformat": 4,
 "nbformat_minor": 5
}
